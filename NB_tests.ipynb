{
 "cells": [
  {
   "cell_type": "code",
   "execution_count": null,
   "metadata": {
    "collapsed": false
   },
   "outputs": [],
   "source": [
    "import numpy as np\n",
    "import matplotlib.pyplot as plt\n",
    "import tensorflow as tf\n",
    "from datetime import datetime\n",
    "import importlib\n",
    "import mr_rrn, data_aux"
   ]
  },
  {
   "cell_type": "code",
   "execution_count": null,
   "metadata": {
    "collapsed": false
   },
   "outputs": [],
   "source": []
  },
  {
   "cell_type": "code",
   "execution_count": null,
   "metadata": {
    "collapsed": false
   },
   "outputs": [],
   "source": []
  },
  {
   "cell_type": "code",
   "execution_count": null,
   "metadata": {
    "collapsed": false
   },
   "outputs": [],
   "source": []
  },
  {
   "cell_type": "code",
   "execution_count": null,
   "metadata": {
    "collapsed": false
   },
   "outputs": [],
   "source": []
  },
  {
   "cell_type": "code",
   "execution_count": null,
   "metadata": {
    "collapsed": true
   },
   "outputs": [],
   "source": [
    "# Settings\n",
    "examples=50000\n",
    "num_steps = 20\n",
    "num_seq = 3\n",
    "n_hidden_enc = 4\n",
    "n_hidden_con = 5\n",
    "n_hidden_dec = 8\n",
    "batch_size = 100\n",
    "learning_rate = 0.01\n",
    "embedding_shape = [3, 3] # [voc_size, emb_dim]"
   ]
  },
  {
   "cell_type": "code",
   "execution_count": null,
   "metadata": {
    "collapsed": false
   },
   "outputs": [],
   "source": []
  },
  {
   "cell_type": "code",
   "execution_count": null,
   "metadata": {
    "collapsed": false
   },
   "outputs": [],
   "source": []
  },
  {
   "cell_type": "code",
   "execution_count": null,
   "metadata": {
    "collapsed": false
   },
   "outputs": [],
   "source": []
  },
  {
   "cell_type": "code",
   "execution_count": null,
   "metadata": {
    "collapsed": false,
    "scrolled": false
   },
   "outputs": [],
   "source": [
    "importlib.reload(mr_rrn)\n",
    "# Build graph\n",
    "timer = datetime.now()\n",
    "tf.reset_default_graph()\n",
    "(vocab_input, sequence_input, total_loss, train_step) = mr_rrn.build_graph(embedding_shape, num_seq, num_steps, batch_size, n_hidden_enc, n_hidden_con, n_hidden_dec, learning_rate)\n",
    "timer = datetime.now() - timer\n",
    "print('Time build graph: ', timer)\n",
    "\n",
    "# Load data\n",
    "X = data_aux.gen_data_sequence(examples=examples, num_seq=num_seq, num_steps=num_steps)\n",
    "batches = data_aux.batch_iter(list(X), batch_size = batch_size, num_epochs = 3)\n",
    "\n",
    "# Train\n",
    "W_embedding = data_aux.random_embedding(embedding_shape[0], embedding_shape[1])\n",
    "acc_loss = 0\n",
    "with tf.Session() as sess:\n",
    "    sess.run(tf.initialize_all_variables(), feed_dict={vocab_input : W_embedding})\n",
    "    timer = datetime.now()\n",
    "    for i, batch in enumerate(batches):\n",
    "        x_batch = np.array(batch)\n",
    "        feed_dict = {sequence_input : x_batch,\n",
    "                     }\n",
    "        loss, _ = sess.run([total_loss, train_step], feed_dict=feed_dict)\n",
    "        acc_loss += loss\n",
    "        if i % 25 == 0 and i > 0:\n",
    "            print(acc_loss/25)\n",
    "            acc_loss = 0\n",
    "timer = datetime.now() - timer\n",
    "print('Time run graph: ', timer)"
   ]
  },
  {
   "cell_type": "code",
   "execution_count": null,
   "metadata": {
    "collapsed": false
   },
   "outputs": [],
   "source": []
  },
  {
   "cell_type": "code",
   "execution_count": null,
   "metadata": {
    "collapsed": false
   },
   "outputs": [],
   "source": []
  },
  {
   "cell_type": "code",
   "execution_count": null,
   "metadata": {
    "collapsed": true
   },
   "outputs": [],
   "source": []
  }
 ],
 "metadata": {
  "kernelspec": {
   "display_name": "Python 3",
   "language": "python",
   "name": "python3"
  },
  "language_info": {
   "codemirror_mode": {
    "name": "ipython",
    "version": 3
   },
   "file_extension": ".py",
   "mimetype": "text/x-python",
   "name": "python",
   "nbconvert_exporter": "python",
   "pygments_lexer": "ipython3",
   "version": "3.5.2"
  }
 },
 "nbformat": 4,
 "nbformat_minor": 1
}
