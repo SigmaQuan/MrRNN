{
 "cells": [
  {
   "cell_type": "code",
   "execution_count": null,
   "metadata": {
    "collapsed": false
   },
   "outputs": [],
   "source": [
    "import numpy as np\n",
    "import matplotlib.pyplot as plt\n",
    "import tensorflow as tf\n",
    "from datetime import datetime\n",
    "import importlib\n",
    "import mr_rrn, data_aux\n",
    "from tensorflow.contrib import learn"
   ]
  },
  {
   "cell_type": "code",
   "execution_count": null,
   "metadata": {
    "collapsed": false
   },
   "outputs": [],
   "source": []
  },
  {
   "cell_type": "code",
   "execution_count": null,
   "metadata": {
    "collapsed": false,
    "scrolled": true
   },
   "outputs": [],
   "source": []
  },
  {
   "cell_type": "code",
   "execution_count": null,
   "metadata": {
    "collapsed": false
   },
   "outputs": [],
   "source": []
  },
  {
   "cell_type": "code",
   "execution_count": null,
   "metadata": {
    "collapsed": false
   },
   "outputs": [],
   "source": []
  },
  {
   "cell_type": "code",
   "execution_count": null,
   "metadata": {
    "collapsed": false
   },
   "outputs": [],
   "source": []
  },
  {
   "cell_type": "code",
   "execution_count": null,
   "metadata": {
    "collapsed": false
   },
   "outputs": [],
   "source": []
  },
  {
   "cell_type": "code",
   "execution_count": null,
   "metadata": {
    "collapsed": false,
    "scrolled": true
   },
   "outputs": [],
   "source": []
  },
  {
   "cell_type": "code",
   "execution_count": null,
   "metadata": {
    "collapsed": false
   },
   "outputs": [],
   "source": []
  },
  {
   "cell_type": "code",
   "execution_count": null,
   "metadata": {
    "collapsed": false
   },
   "outputs": [],
   "source": []
  },
  {
   "cell_type": "code",
   "execution_count": null,
   "metadata": {
    "collapsed": true
   },
   "outputs": [],
   "source": [
    "# Settings test\n",
    "examples=50000\n",
    "num_steps = 20\n",
    "num_seq = 4\n",
    "n_hidden_enc = 4\n",
    "n_hidden_con = 5\n",
    "n_hidden_dec = 8\n",
    "batch_size = 100\n",
    "learning_rate = 0.05\n",
    "embedding_shape = [4, 3] # [voc_size, emb_dim]"
   ]
  },
  {
   "cell_type": "code",
   "execution_count": null,
   "metadata": {
    "collapsed": false
   },
   "outputs": [],
   "source": [
    "# Settings real deal\n",
    "num_steps = 20\n",
    "num_seq = 6\n",
    "n_hidden_enc = 300\n",
    "n_hidden_con = 300\n",
    "n_hidden_dec = 300\n",
    "batch_size = 40\n",
    "learning_rate = 0.0002"
   ]
  },
  {
   "cell_type": "code",
   "execution_count": null,
   "metadata": {
    "collapsed": false
   },
   "outputs": [],
   "source": []
  },
  {
   "cell_type": "code",
   "execution_count": null,
   "metadata": {
    "collapsed": false,
    "scrolled": false
   },
   "outputs": [],
   "source": [
    "importlib.reload(mr_rrn)\n",
    "tf.reset_default_graph()\n",
    "coarse_kwargs = {'embedding_shape' : [2,3],\n",
    "                 'num_seq' : num_seq,\n",
    "                 'num_steps' : 20,\n",
    "                 'batch_size' : batch_size,\n",
    "                 'n_hidden_encoder' : 3,\n",
    "                 'n_hidden_context' : 4,\n",
    "                 'n_hidden_decoder' : 5}\n",
    "nl_kwargs = {'embedding_shape' : [3,4],\n",
    "               'num_seq' : num_seq,\n",
    "               'num_steps' : 12,\n",
    "               'batch_size' : batch_size,\n",
    "               'n_hidden_encoder' : 6,\n",
    "               'n_hidden_context' : 7, \n",
    "               'n_hidden_decoder' : 8}\n",
    "graph_nodes = mr_rrn.build_graph(coarse_kwargs, 2, nl_kwargs, learning_rate, gradient_clipping = 1.)"
   ]
  },
  {
   "cell_type": "code",
   "execution_count": null,
   "metadata": {
    "collapsed": false
   },
   "outputs": [],
   "source": []
  },
  {
   "cell_type": "code",
   "execution_count": null,
   "metadata": {
    "collapsed": false
   },
   "outputs": [],
   "source": []
  },
  {
   "cell_type": "code",
   "execution_count": null,
   "metadata": {
    "collapsed": true
   },
   "outputs": [],
   "source": []
  },
  {
   "cell_type": "code",
   "execution_count": null,
   "metadata": {
    "collapsed": false,
    "scrolled": false
   },
   "outputs": [],
   "source": [
    "# Load data\n",
    "importlib.reload(mr_rrn)\n",
    "\n",
    "# Simple test\n",
    "data_sequences, data_len = data_aux.generate_test_data_sequence(examples=examples, num_seq=num_seq, num_steps=num_steps)\n",
    "W_embedding = np.eye(4)\n",
    "# The real deal\n",
    "#data_sequences, data_len, vocab_processor = data_aux.generate_data_ubuntu(max_utterances = num_seq, max_tokens = num_steps)\n",
    "#W_embedding = data_aux.random_embedding(vocab_processor)\n",
    "\n",
    "embedding_shape = W_embedding.shape\n",
    "batches = data_aux.batch_iter([data_sequences, data_len],batch_size=batch_size, num_epochs=5)\n",
    "\n",
    "# Build graph\n",
    "timer = datetime.now()\n",
    "tf.reset_default_graph()\n",
    "hred_kwargs = {'embedding_shape' : embedding_shape,\n",
    "               'num_seq' : num_seq,\n",
    "               'num_steps' : num_steps,\n",
    "               'batch_size' : batch_size,\n",
    "               'n_hidden_encoder' : n_hidden_enc,\n",
    "               'n_hidden_context' : n_hidden_con, \n",
    "               'n_hidden_decoder' : n_hidden_dec}\n",
    "graph_nodes = mr_rrn.build_graph(hred_kwargs, learning_rate, gradient_clipping = 1.)\n",
    "timer = datetime.now() - timer\n",
    "print('Time build graph: ', timer)\n",
    "\n",
    "# Train\n",
    "acc_loss = 0\n",
    "with tf.Session() as sess:\n",
    "    timer = datetime.now()\n",
    "    sess.run(tf.initialize_all_variables(), feed_dict={graph_nodes['vocab_input'] : W_embedding})\n",
    "    timer = datetime.now() - timer\n",
    "    print('Time init graph: ', timer)\n",
    "    timer = datetime.now()\n",
    "    acc_loss = 0\n",
    "    for i, batch in enumerate(batches):\n",
    "        seq_batch, len_batch = batch\n",
    "        feed_dict = {graph_nodes['sequence_input'] : seq_batch,\n",
    "                     graph_nodes['length_input'] : len_batch\n",
    "                     }\n",
    "        loss, _ = sess.run([graph_nodes['total_loss'], graph_nodes['train_step']], feed_dict=feed_dict)\n",
    "        acc_loss += loss\n",
    "        if i % 25 == 0 and i > 0:\n",
    "            print(acc_loss/25)\n",
    "            acc_loss = 0\n",
    "timer = datetime.now() - timer\n",
    "print('Time run graph: ', timer)"
   ]
  },
  {
   "cell_type": "code",
   "execution_count": null,
   "metadata": {
    "collapsed": false
   },
   "outputs": [],
   "source": []
  },
  {
   "cell_type": "code",
   "execution_count": null,
   "metadata": {
    "collapsed": false
   },
   "outputs": [],
   "source": []
  },
  {
   "cell_type": "code",
   "execution_count": null,
   "metadata": {
    "collapsed": false
   },
   "outputs": [],
   "source": []
  },
  {
   "cell_type": "code",
   "execution_count": null,
   "metadata": {
    "collapsed": true
   },
   "outputs": [],
   "source": []
  }
 ],
 "metadata": {
  "kernelspec": {
   "display_name": "Python 3",
   "language": "python",
   "name": "python3"
  },
  "language_info": {
   "codemirror_mode": {
    "name": "ipython",
    "version": 3
   },
   "file_extension": ".py",
   "mimetype": "text/x-python",
   "name": "python",
   "nbconvert_exporter": "python",
   "pygments_lexer": "ipython3",
   "version": "3.5.2"
  }
 },
 "nbformat": 4,
 "nbformat_minor": 1
}
