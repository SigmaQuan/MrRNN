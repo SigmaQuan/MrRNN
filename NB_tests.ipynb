{
 "cells": [
  {
   "cell_type": "code",
   "execution_count": null,
   "metadata": {
    "collapsed": false
   },
   "outputs": [],
   "source": [
    "import numpy as np\n",
    "import matplotlib.pyplot as plt\n",
    "import tensorflow as tf\n",
    "from datetime import datetime\n",
    "import importlib\n",
    "import mr_rrn, data_aux\n",
    "from tensorflow.contrib import learn"
   ]
  },
  {
   "cell_type": "code",
   "execution_count": null,
   "metadata": {
    "collapsed": false
   },
   "outputs": [],
   "source": []
  },
  {
   "cell_type": "code",
   "execution_count": null,
   "metadata": {
    "collapsed": false,
    "scrolled": true
   },
   "outputs": [],
   "source": []
  },
  {
   "cell_type": "code",
   "execution_count": null,
   "metadata": {
    "collapsed": false
   },
   "outputs": [],
   "source": []
  },
  {
   "cell_type": "code",
   "execution_count": null,
   "metadata": {
    "collapsed": false
   },
   "outputs": [],
   "source": []
  },
  {
   "cell_type": "code",
   "execution_count": null,
   "metadata": {
    "collapsed": false
   },
   "outputs": [],
   "source": []
  },
  {
   "cell_type": "code",
   "execution_count": null,
   "metadata": {
    "collapsed": false
   },
   "outputs": [],
   "source": []
  },
  {
   "cell_type": "code",
   "execution_count": null,
   "metadata": {
    "collapsed": false,
    "scrolled": true
   },
   "outputs": [],
   "source": []
  },
  {
   "cell_type": "code",
   "execution_count": null,
   "metadata": {
    "collapsed": false
   },
   "outputs": [],
   "source": []
  },
  {
   "cell_type": "code",
   "execution_count": null,
   "metadata": {
    "collapsed": false
   },
   "outputs": [],
   "source": []
  },
  {
   "cell_type": "code",
   "execution_count": null,
   "metadata": {
    "collapsed": true
   },
   "outputs": [],
   "source": [
    "# Settings\n",
    "#examples=50000\n",
    "num_steps = 20\n",
    "num_seq = 6\n",
    "n_hidden_enc = 300\n",
    "n_hidden_con = 300\n",
    "n_hidden_dec = 300\n",
    "batch_size = 128\n",
    "learning_rate = 0.001\n",
    "#embedding_shape = [3, 3] # [voc_size, emb_dim]"
   ]
  },
  {
   "cell_type": "code",
   "execution_count": null,
   "metadata": {
    "collapsed": false
   },
   "outputs": [],
   "source": []
  },
  {
   "cell_type": "code",
   "execution_count": null,
   "metadata": {
    "collapsed": false
   },
   "outputs": [],
   "source": []
  },
  {
   "cell_type": "code",
   "execution_count": null,
   "metadata": {
    "collapsed": false
   },
   "outputs": [],
   "source": []
  },
  {
   "cell_type": "code",
   "execution_count": null,
   "metadata": {
    "collapsed": false
   },
   "outputs": [],
   "source": []
  },
  {
   "cell_type": "code",
   "execution_count": null,
   "metadata": {
    "collapsed": false
   },
   "outputs": [],
   "source": []
  },
  {
   "cell_type": "code",
   "execution_count": null,
   "metadata": {
    "collapsed": false,
    "scrolled": true
   },
   "outputs": [],
   "source": [
    "# Load data\n",
    "importlib.reload(mr_rrn)\n",
    "#X = data_aux.generate_test_data_sequence(examples=examples, num_seq=num_seq, num_steps=num_steps)\n",
    "#x_data, y_data = X[:,:-1,:], X[:,1:,:]\n",
    "data_sequences, data_len, vocab_processor = data_aux.generate_data_ubuntu(max_utterances = num_seq, max_tokens = num_steps)\n",
    "batches = data_aux.batch_iter([data_sequences, data_len],batch_size=batch_size, num_epochs=5)\n",
    "\n",
    "# Build graph\n",
    "timer = datetime.now()\n",
    "tf.reset_default_graph()\n",
    "(vocab_input, sequence_input, length_input, total_loss, train_step) = mr_rrn.build_graph([len(vocab_processor.vocabulary_), 128], num_seq, num_steps, batch_size, n_hidden_enc, n_hidden_con, n_hidden_dec, learning_rate, gradient_clipping = 0.)\n",
    "timer = datetime.now() - timer\n",
    "print('Time build graph: ', timer)\n",
    "\n",
    "# Train\n",
    "W_embedding = data_aux.random_embedding(vocab_processor)\n",
    "#W_embedding = np.eye(3)\n",
    "acc_loss = 0\n",
    "with tf.Session() as sess:\n",
    "    timer = datetime.now()\n",
    "    sess.run(tf.initialize_all_variables(), feed_dict={vocab_input : W_embedding})\n",
    "    timer = datetime.now() - timer\n",
    "    print('Time init graph: ', timer)\n",
    "    timer = datetime.now()\n",
    "    for i, batch in enumerate(batches):\n",
    "        seq_batch, len_batch = batch\n",
    "        feed_dict = {sequence_input : seq_batch,\n",
    "                     length_input : len_batch\n",
    "                     }\n",
    "        loss, _ = sess.run([total_loss, train_step], feed_dict=feed_dict)\n",
    "        print(loss)\n",
    "        if i > 5:\n",
    "            break\n",
    "timer = datetime.now() - timer\n",
    "print('Time run graph: ', timer)"
   ]
  },
  {
   "cell_type": "code",
   "execution_count": null,
   "metadata": {
    "collapsed": false
   },
   "outputs": [],
   "source": []
  },
  {
   "cell_type": "code",
   "execution_count": null,
   "metadata": {
    "collapsed": false
   },
   "outputs": [],
   "source": []
  },
  {
   "cell_type": "code",
   "execution_count": null,
   "metadata": {
    "collapsed": false
   },
   "outputs": [],
   "source": []
  },
  {
   "cell_type": "code",
   "execution_count": null,
   "metadata": {
    "collapsed": true
   },
   "outputs": [],
   "source": []
  }
 ],
 "metadata": {
  "kernelspec": {
   "display_name": "Python 3",
   "language": "python",
   "name": "python3"
  },
  "language_info": {
   "codemirror_mode": {
    "name": "ipython",
    "version": 3
   },
   "file_extension": ".py",
   "mimetype": "text/x-python",
   "name": "python",
   "nbconvert_exporter": "python",
   "pygments_lexer": "ipython3",
   "version": "3.5.2"
  }
 },
 "nbformat": 4,
 "nbformat_minor": 1
}
