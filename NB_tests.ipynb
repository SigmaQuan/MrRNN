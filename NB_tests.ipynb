{
 "cells": [
  {
   "cell_type": "code",
   "execution_count": null,
   "metadata": {
    "collapsed": false
   },
   "outputs": [],
   "source": [
    "import numpy as np\n",
    "import matplotlib.pyplot as plt\n",
    "import tensorflow as tf\n",
    "from datetime import datetime\n",
    "import importlib\n",
    "import mr_rrn, data_aux\n",
    "from tensorflow.contrib import learn"
   ]
  },
  {
   "cell_type": "code",
   "execution_count": null,
   "metadata": {
    "collapsed": true
   },
   "outputs": [],
   "source": [
    "# Settings test\n",
    "examples=50000\n",
    "num_seq = 4\n",
    "batch_size = 200\n",
    "\n",
    "learning_rate = 0.05\n",
    "gradient_clipping = 1.\n",
    "\n",
    "n_hidden_coarse_prediction = 2\n",
    "coarse_kwargs = {'embedding_shape' : [4,4],\n",
    "                 'num_seq' : num_seq,\n",
    "                 'num_steps' : 10,\n",
    "                 'batch_size' : batch_size,\n",
    "                 'n_hidden_encoder' : 10,\n",
    "                 'n_hidden_context' : 9,\n",
    "                 'n_hidden_decoder' : 8}\n",
    "nl_kwargs = {'embedding_shape' : [4,4],\n",
    "             'num_seq' : num_seq,\n",
    "             'num_steps' : 20,\n",
    "             'batch_size' : batch_size,\n",
    "             'n_hidden_encoder' : 9,\n",
    "             'n_hidden_context' : 8, \n",
    "             'n_hidden_decoder' : 10}"
   ]
  },
  {
   "cell_type": "code",
   "execution_count": null,
   "metadata": {
    "collapsed": false,
    "scrolled": false
   },
   "outputs": [],
   "source": [
    "# Load data\n",
    "importlib.reload(mr_rrn)\n",
    "importlib.reload(data_aux)\n",
    "\n",
    "# Simple test\n",
    "coarse_data, coarse_length, nl_data, nl_length = data_aux.generate_test_data_with_coarse(examples=examples, num_seq=num_seq, num_steps_nl=nl_kwargs['num_steps'], num_steps_coarse=coarse_kwargs['num_steps'])\n",
    "coarse_W_embedding = np.eye(4)\n",
    "nl_W_embedding = np.eye(4)\n",
    "\n",
    "batches = data_aux.batch_iter([coarse_data, coarse_length, nl_data, nl_length],batch_size=batch_size, num_epochs=5)\n",
    "\n",
    "# Build graph\n",
    "timer = datetime.now()\n",
    "tf.reset_default_graph()\n",
    "graph_nodes = mr_rrn.build_graph(coarse_kwargs, n_hidden_coarse_prediction, nl_kwargs, learning_rate, gradient_clipping)\n",
    "timer = datetime.now() - timer\n",
    "print('Time build graph: ', timer)\n",
    "\n",
    "# Train\n",
    "acc_loss = 0\n",
    "with tf.Session() as sess:\n",
    "    timer = datetime.now()\n",
    "    feed_dict={graph_nodes['coarse_vocab_input'] : coarse_W_embedding,\n",
    "               graph_nodes['nl_vocab_input'] : nl_W_embedding\n",
    "              }\n",
    "    sess.run(tf.initialize_all_variables(), feed_dict=feed_dict)\n",
    "    timer = datetime.now() - timer\n",
    "    print('Time init graph: ', timer)\n",
    "    timer = datetime.now()\n",
    "    acc_loss = 0\n",
    "    for i, batch in enumerate(batches):\n",
    "        coarse_seq, coarse_len, nl_seq, nl_len = batch\n",
    "        feed_dict = {graph_nodes['coarse_sequence_input'] : coarse_seq,\n",
    "                     graph_nodes['coarse_length_input'] : coarse_len,\n",
    "                     graph_nodes['nl_sequence_input'] : nl_seq,\n",
    "                     graph_nodes['nl_length_input'] : nl_len\n",
    "                     }\n",
    "        loss, _ = sess.run([graph_nodes['total_loss'], graph_nodes['train_step']], feed_dict=feed_dict)\n",
    "        acc_loss += loss\n",
    "        if i % 25 == 0 and i > 0:\n",
    "            print(acc_loss/25)\n",
    "            acc_loss = 0\n",
    "timer = datetime.now() - timer\n",
    "print('Time run graph: ', timer)"
   ]
  }
 ],
 "metadata": {
  "kernelspec": {
   "display_name": "Python 3",
   "language": "python",
   "name": "python3"
  },
  "language_info": {
   "codemirror_mode": {
    "name": "ipython",
    "version": 3
   },
   "file_extension": ".py",
   "mimetype": "text/x-python",
   "name": "python",
   "nbconvert_exporter": "python",
   "pygments_lexer": "ipython3",
   "version": "3.5.2"
  }
 },
 "nbformat": 4,
 "nbformat_minor": 1
}
