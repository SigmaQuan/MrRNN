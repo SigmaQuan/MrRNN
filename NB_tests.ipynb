{
 "cells": [
  {
   "cell_type": "code",
   "execution_count": 1,
   "metadata": {
    "collapsed": false
   },
   "outputs": [
    {
     "data": {
      "text/plain": [
       "<module 'data_aux' from '/Users/bjornmattsson/Documents/MrRRN/data_aux.py'>"
      ]
     },
     "execution_count": 1,
     "metadata": {},
     "output_type": "execute_result"
    }
   ],
   "source": [
    "import numpy as np\n",
    "import matplotlib.pyplot as plt\n",
    "import tensorflow as tf\n",
    "from datetime import datetime\n",
    "import importlib\n",
    "import mr_rrn, data_aux\n",
    "from tensorflow.contrib import learn\n",
    "importlib.reload(data_aux)"
   ]
  },
  {
   "cell_type": "code",
   "execution_count": null,
   "metadata": {
    "collapsed": false
   },
   "outputs": [],
   "source": []
  },
  {
   "cell_type": "code",
   "execution_count": null,
   "metadata": {
    "collapsed": false
   },
   "outputs": [],
   "source": []
  },
  {
   "cell_type": "code",
   "execution_count": null,
   "metadata": {
    "collapsed": false
   },
   "outputs": [],
   "source": []
  },
  {
   "cell_type": "code",
   "execution_count": null,
   "metadata": {
    "collapsed": false
   },
   "outputs": [],
   "source": []
  },
  {
   "cell_type": "code",
   "execution_count": null,
   "metadata": {
    "collapsed": false
   },
   "outputs": [],
   "source": []
  },
  {
   "cell_type": "code",
   "execution_count": null,
   "metadata": {
    "collapsed": false
   },
   "outputs": [],
   "source": []
  },
  {
   "cell_type": "code",
   "execution_count": null,
   "metadata": {
    "collapsed": false,
    "scrolled": true
   },
   "outputs": [],
   "source": []
  },
  {
   "cell_type": "code",
   "execution_count": null,
   "metadata": {
    "collapsed": false
   },
   "outputs": [],
   "source": []
  },
  {
   "cell_type": "code",
   "execution_count": null,
   "metadata": {
    "collapsed": false
   },
   "outputs": [],
   "source": []
  },
  {
   "cell_type": "code",
   "execution_count": 3,
   "metadata": {
    "collapsed": true
   },
   "outputs": [],
   "source": [
    "# Settings\n",
    "#examples=50000\n",
    "num_steps = 20\n",
    "num_seq = 6\n",
    "n_hidden_enc = 300\n",
    "n_hidden_con = 300\n",
    "n_hidden_dec = 300\n",
    "batch_size = 128\n",
    "learning_rate = 0.001\n",
    "#embedding_shape = [3, 3] # [voc_size, emb_dim]"
   ]
  },
  {
   "cell_type": "code",
   "execution_count": null,
   "metadata": {
    "collapsed": false
   },
   "outputs": [],
   "source": []
  },
  {
   "cell_type": "code",
   "execution_count": null,
   "metadata": {
    "collapsed": false
   },
   "outputs": [],
   "source": []
  },
  {
   "cell_type": "code",
   "execution_count": null,
   "metadata": {
    "collapsed": false
   },
   "outputs": [],
   "source": []
  },
  {
   "cell_type": "code",
   "execution_count": null,
   "metadata": {
    "collapsed": false
   },
   "outputs": [],
   "source": []
  },
  {
   "cell_type": "code",
   "execution_count": null,
   "metadata": {
    "collapsed": false
   },
   "outputs": [],
   "source": []
  },
  {
   "cell_type": "code",
   "execution_count": null,
   "metadata": {
    "collapsed": false,
    "scrolled": true
   },
   "outputs": [
    {
     "name": "stdout",
     "output_type": "stream",
     "text": [
      "Time build graph:  0:00:23.906104\n",
      "Time init graph:  0:00:14.256172\n",
      "9.62334\n",
      "4.55464\n",
      "1.94668\n",
      "2.28608\n",
      "2.53452\n",
      "2.46169\n",
      "2.21429\n",
      "1.80503\n",
      "1.70123\n",
      "1.78298\n",
      "1.76741\n",
      "1.56656\n",
      "1.75154\n",
      "1.53372\n",
      "1.40993\n",
      "1.5445\n"
     ]
    }
   ],
   "source": [
    "# Load data\n",
    "#X = data_aux.generate_test_data_sequence(examples=examples, num_seq=num_seq, num_steps=num_steps)\n",
    "#x_data, y_data = X[:,:-1,:], X[:,1:,:]\n",
    "x_data, y_data, vocab_processor = data_aux.generate_data_ubuntu(max_utterances = num_seq, max_tokens = num_steps)\n",
    "batches = data_aux.batch_iter([x_data, y_data],batch_size=batch_size, num_epochs=5)\n",
    "\n",
    "# Build graph\n",
    "timer = datetime.now()\n",
    "tf.reset_default_graph()\n",
    "(vocab_input, x_input, y_input, total_loss, train_step) = mr_rrn.build_graph([len(vocab_processor.vocabulary_), 300], num_seq, num_steps, batch_size, n_hidden_enc, n_hidden_con, n_hidden_dec, learning_rate, gradient_clipping = 0.)\n",
    "timer = datetime.now() - timer\n",
    "print('Time build graph: ', timer)\n",
    "\n",
    "# Train\n",
    "W_embedding = data_aux.pretrained_embedding(vocab_processor)\n",
    "#W_embedding = np.eye(3)\n",
    "acc_loss = 0\n",
    "with tf.Session() as sess:\n",
    "    timer = datetime.now()\n",
    "    sess.run(tf.initialize_all_variables(), feed_dict={vocab_input : W_embedding})\n",
    "    timer = datetime.now() - timer\n",
    "    print('Time init graph: ', timer)\n",
    "    timer = datetime.now()\n",
    "    for i, batch in enumerate(batches):\n",
    "        x_batch, y_batch = batch\n",
    "        feed_dict = {x_input : x_batch,\n",
    "                     y_input : y_batch\n",
    "                     }\n",
    "        loss, _ = sess.run([total_loss, train_step], feed_dict=feed_dict)\n",
    "        print(loss)\n",
    "timer = datetime.now() - timer\n",
    "print('Time run graph: ', timer)"
   ]
  },
  {
   "cell_type": "code",
   "execution_count": null,
   "metadata": {
    "collapsed": false
   },
   "outputs": [],
   "source": []
  },
  {
   "cell_type": "code",
   "execution_count": null,
   "metadata": {
    "collapsed": false
   },
   "outputs": [],
   "source": []
  },
  {
   "cell_type": "code",
   "execution_count": null,
   "metadata": {
    "collapsed": true
   },
   "outputs": [],
   "source": []
  }
 ],
 "metadata": {
  "kernelspec": {
   "display_name": "Python 3",
   "language": "python",
   "name": "python3"
  },
  "language_info": {
   "codemirror_mode": {
    "name": "ipython",
    "version": 3
   },
   "file_extension": ".py",
   "mimetype": "text/x-python",
   "name": "python",
   "nbconvert_exporter": "python",
   "pygments_lexer": "ipython3",
   "version": "3.5.2"
  }
 },
 "nbformat": 4,
 "nbformat_minor": 1
}
